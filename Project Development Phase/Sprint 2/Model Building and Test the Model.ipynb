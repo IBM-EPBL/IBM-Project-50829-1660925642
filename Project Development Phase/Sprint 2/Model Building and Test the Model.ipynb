{
  "nbformat": 4,
  "nbformat_minor": 0,
  "metadata": {
    "colab": {
      "provenance": [],
      "collapsed_sections": []
    },
    "kernelspec": {
      "name": "python3",
      "display_name": "Python 3"
    },
    "language_info": {
      "name": "python"
    }
  },
  "cells": [
    {
      "cell_type": "code",
      "execution_count": 1,
      "metadata": {
        "id": "_HFJox-X3JLM"
      },
      "outputs": [],
      "source": [
        "#import keras libraries\n",
        "from keras.models import Sequential\n",
        "from keras.layers import Dense\n",
        "from keras.layers import Convolution2D\n",
        "from keras.layers import MaxPooling2D\n",
        "from keras.layers import Flatten"
      ]
    },
    {
      "cell_type": "code",
      "source": [
        "#image preprocessing(or) image augmentation\n",
        "from keras.preprocessing.image import ImageDataGenerator"
      ],
      "metadata": {
        "id": "KIVNu3OW3aWJ"
      },
      "execution_count": 2,
      "outputs": []
    },
    {
      "cell_type": "code",
      "source": [
        "train_datagen = ImageDataGenerator(rescale=1./255,shear_range=0.2,zoom_range=0.2,horizontal_flip=True,vertical_flip=True)\n",
        "#rescale => rescaling pixel value from 0 to 255 to 0 to 1\n",
        "#shear_range=> counter clock wise rotation(anti clock)"
      ],
      "metadata": {
        "id": "V8d4UT8Q3hKd"
      },
      "execution_count": 3,
      "outputs": []
    },
    {
      "cell_type": "code",
      "source": [
        "test_datagen = ImageDataGenerator(rescale=1./255)"
      ],
      "metadata": {
        "id": "ZfCvxEgJ3mFA"
      },
      "execution_count": 4,
      "outputs": []
    },
    {
      "cell_type": "code",
      "source": [
        "x_train = train_datagen.flow_from_directory(\"/content/drive/MyDrive/dataset/data_set/training_set\",target_size=(64,64),batch_size=32,class_mode=\"binary\")"
      ],
      "metadata": {
        "colab": {
          "base_uri": "https://localhost:8080/"
        },
        "id": "higo2zq24Z9w",
        "outputId": "12e171f2-4a91-4521-b046-50b001a2206d"
      },
      "execution_count": 5,
      "outputs": [
        {
          "output_type": "stream",
          "name": "stdout",
          "text": [
            "Found 5750 images belonging to 9 classes.\n"
          ]
        }
      ]
    },
    {
      "cell_type": "code",
      "source": [
        "x_test = test_datagen.flow_from_directory(\"/content/drive/MyDrive/dataset/data_set/test_set\",target_size=(64,64),batch_size=32,class_mode=\"binary\")"
      ],
      "metadata": {
        "colab": {
          "base_uri": "https://localhost:8080/"
        },
        "id": "ZofjutGg4_zU",
        "outputId": "639b4c93-834a-46ba-873a-3f381511259c"
      },
      "execution_count": 6,
      "outputs": [
        {
          "output_type": "stream",
          "name": "stdout",
          "text": [
            "Found 2250 images belonging to 9 classes.\n"
          ]
        }
      ]
    },
    {
      "cell_type": "code",
      "source": [
        "x_train.class_indices"
      ],
      "metadata": {
        "colab": {
          "base_uri": "https://localhost:8080/"
        },
        "id": "vH1U3q_P5vgM",
        "outputId": "668388a6-8e03-4cca-aff1-e562fa683562"
      },
      "execution_count": 7,
      "outputs": [
        {
          "output_type": "execute_result",
          "data": {
            "text/plain": [
              "{'A': 0, 'B': 1, 'C': 2, 'D': 3, 'E': 4, 'F': 5, 'G': 6, 'H': 7, 'I': 8}"
            ]
          },
          "metadata": {},
          "execution_count": 7
        }
      ]
    },
    {
      "cell_type": "code",
      "source": [
        "#checking the number of classes\n",
        "print(x_test.class_indices)"
      ],
      "metadata": {
        "colab": {
          "base_uri": "https://localhost:8080/"
        },
        "id": "_ZyM7yxZ52PP",
        "outputId": "e687a28b-5593-452a-84de-a11fa1026dcf"
      },
      "execution_count": 8,
      "outputs": [
        {
          "output_type": "stream",
          "name": "stdout",
          "text": [
            "{'A': 0, 'B': 1, 'C': 2, 'D': 3, 'E': 4, 'F': 5, 'G': 6, 'H': 7, 'I': 8}\n"
          ]
        }
      ]
    },
    {
      "cell_type": "code",
      "source": [
        "from collections import Counter as c\n",
        "c(x_train .labels)"
      ],
      "metadata": {
        "colab": {
          "base_uri": "https://localhost:8080/"
        },
        "id": "j1Wk-DrZ56rI",
        "outputId": "3b562720-1f5c-4683-a375-df72026e93eb"
      },
      "execution_count": 9,
      "outputs": [
        {
          "output_type": "execute_result",
          "data": {
            "text/plain": [
              "Counter({0: 1750,\n",
              "         1: 500,\n",
              "         2: 500,\n",
              "         3: 500,\n",
              "         4: 500,\n",
              "         5: 500,\n",
              "         6: 500,\n",
              "         7: 500,\n",
              "         8: 500})"
            ]
          },
          "metadata": {},
          "execution_count": 9
        }
      ]
    },
    {
      "cell_type": "code",
      "source": [
        "#Initializing the model\n",
        "model = Sequential()"
      ],
      "metadata": {
        "id": "7mqfVybQ6BFP"
      },
      "execution_count": 10,
      "outputs": []
    },
    {
      "cell_type": "markdown",
      "source": [
        "# add First convolution layer"
      ],
      "metadata": {
        "id": "0fjmFGgT6ExM"
      }
    },
    {
      "cell_type": "code",
      "source": [
        "model.add(Convolution2D(32,(3,3),input_shape=(64,64,1),activation=\"relu\"))\n",
        "# 32 indicates => no of feature detectors\n",
        "#(3,3)=> kernel size (feature detector size)"
      ],
      "metadata": {
        "id": "M4b61O476FqK"
      },
      "execution_count": 12,
      "outputs": []
    },
    {
      "cell_type": "markdown",
      "source": [
        "# add Maxpooling layer"
      ],
      "metadata": {
        "id": "WmGQpC0d6PoV"
      }
    },
    {
      "cell_type": "code",
      "source": [
        "model.add(MaxPooling2D(pool_size=(2,2)))"
      ],
      "metadata": {
        "id": "e-lXJWoV6QrW"
      },
      "execution_count": 13,
      "outputs": []
    },
    {
      "cell_type": "code",
      "source": [
        "#Second convolution layer and pooling\n",
        "model.add(Convolution2D(32,(3,3),activation='relu'))"
      ],
      "metadata": {
        "id": "IJfM2MdG6ZGB"
      },
      "execution_count": 14,
      "outputs": []
    },
    {
      "cell_type": "code",
      "source": [
        "model.add(MaxPooling2D(pool_size=(2,2)))"
      ],
      "metadata": {
        "id": "7mfRgP-p6eWw"
      },
      "execution_count": 15,
      "outputs": []
    },
    {
      "cell_type": "code",
      "source": [
        "#Flattening the layers\n",
        "model.add(Flatten())"
      ],
      "metadata": {
        "id": "iQqwOGhz6iFc"
      },
      "execution_count": 16,
      "outputs": []
    },
    {
      "cell_type": "code",
      "source": [
        "model.add(Dense(units=512,activation='relu'))"
      ],
      "metadata": {
        "id": "yLHvPSB66mB1"
      },
      "execution_count": 17,
      "outputs": []
    },
    {
      "cell_type": "code",
      "source": [
        "model.add(Dense(units=9,activation='softmax'))"
      ],
      "metadata": {
        "id": "OuCaQWaF6qfO"
      },
      "execution_count": 18,
      "outputs": []
    },
    {
      "cell_type": "markdown",
      "source": [
        "# add flatten layer => input to your ANN"
      ],
      "metadata": {
        "id": "5dp9sCTv6wiy"
      }
    },
    {
      "cell_type": "code",
      "source": [
        "model.add(Flatten())"
      ],
      "metadata": {
        "id": "mbBlA0Fs6xhe"
      },
      "execution_count": 19,
      "outputs": []
    },
    {
      "cell_type": "code",
      "source": [
        "model.summary()"
      ],
      "metadata": {
        "colab": {
          "base_uri": "https://localhost:8080/"
        },
        "id": "ozMU3i0g63qD",
        "outputId": "1612a177-753b-4644-d99b-f7621b34a2fa"
      },
      "execution_count": 20,
      "outputs": [
        {
          "output_type": "stream",
          "name": "stdout",
          "text": [
            "Model: \"sequential\"\n",
            "_________________________________________________________________\n",
            " Layer (type)                Output Shape              Param #   \n",
            "=================================================================\n",
            " conv2d (Conv2D)             (None, 62, 62, 32)        896       \n",
            "                                                                 \n",
            " conv2d_1 (Conv2D)           (None, 60, 60, 32)        9248      \n",
            "                                                                 \n",
            " max_pooling2d (MaxPooling2D  (None, 30, 30, 32)       0         \n",
            " )                                                               \n",
            "                                                                 \n",
            " conv2d_2 (Conv2D)           (None, 28, 28, 32)        9248      \n",
            "                                                                 \n",
            " max_pooling2d_1 (MaxPooling  (None, 14, 14, 32)       0         \n",
            " 2D)                                                             \n",
            "                                                                 \n",
            " flatten (Flatten)           (None, 6272)              0         \n",
            "                                                                 \n",
            " dense (Dense)               (None, 512)               3211776   \n",
            "                                                                 \n",
            " dense_1 (Dense)             (None, 9)                 4617      \n",
            "                                                                 \n",
            " flatten_1 (Flatten)         (None, 9)                 0         \n",
            "                                                                 \n",
            "=================================================================\n",
            "Total params: 3,235,785\n",
            "Trainable params: 3,235,785\n",
            "Non-trainable params: 0\n",
            "_________________________________________________________________\n"
          ]
        }
      ]
    },
    {
      "cell_type": "markdown",
      "source": [
        "# adding dense layer"
      ],
      "metadata": {
        "id": "FqYSZhGj6906"
      }
    },
    {
      "cell_type": "code",
      "source": [
        "model.add(Dense(units=300,kernel_initializer=\"random_uniform\",activation=\"relu\"))"
      ],
      "metadata": {
        "id": "eG_kDM8S6-re"
      },
      "execution_count": 21,
      "outputs": []
    },
    {
      "cell_type": "code",
      "source": [
        "model.add(Dense(units=200,kernel_initializer=\"random_uniform\",activation=\"relu\"))"
      ],
      "metadata": {
        "id": "mtulqn8H7Gdg"
      },
      "execution_count": 22,
      "outputs": []
    },
    {
      "cell_type": "markdown",
      "source": [
        "#output layer"
      ],
      "metadata": {
        "id": "ezLLXKOO7LEC"
      }
    },
    {
      "cell_type": "code",
      "source": [
        "model.add(Dense(units=4,kernel_initializer=\"random_uniform\",activation=\"softmax\"))\n",
        "len(x_train)"
      ],
      "metadata": {
        "colab": {
          "base_uri": "https://localhost:8080/"
        },
        "id": "mFzEhczl7bHd",
        "outputId": "c7e8889e-a2d1-47d8-ab60-667bdb757174"
      },
      "execution_count": 23,
      "outputs": [
        {
          "output_type": "execute_result",
          "data": {
            "text/plain": [
              "180"
            ]
          },
          "metadata": {},
          "execution_count": 23
        }
      ]
    },
    {
      "cell_type": "markdown",
      "source": [
        "#Ann starts so need to add dense layers"
      ],
      "metadata": {
        "id": "7fpnZr2b7hhL"
      }
    },
    {
      "cell_type": "code",
      "source": [
        "model.add(Dense(units=128,activation=\"relu\",kernel_initializer=\"random_uniform\"))"
      ],
      "metadata": {
        "id": "4dUTgHaD7iRi"
      },
      "execution_count": 24,
      "outputs": []
    },
    {
      "cell_type": "code",
      "source": [
        "model.add(Dense(units=1,activation=\"sigmoid\",kernel_initializer=\"random_uniform\"))"
      ],
      "metadata": {
        "id": "hKCFCKWB7plQ"
      },
      "execution_count": 25,
      "outputs": []
    },
    {
      "cell_type": "code",
      "source": [
        "#Compile the model\n",
        "model.compile(loss=\"categorical_crossentropy\",optimizer=\"adam\",metrics=['accuracy'])"
      ],
      "metadata": {
        "id": "h9u7fo157uvA"
      },
      "execution_count": 26,
      "outputs": []
    },
    {
      "cell_type": "code",
      "source": [
        "model.fit_generator(x_train,steps_per_epoch=24,epochs=10,validation_data=x_test,validation_steps=40)"
      ],
      "metadata": {
        "colab": {
          "base_uri": "https://localhost:8080/"
        },
        "id": "2Rzx7kzWAG4K",
        "outputId": "1f09aa22-98be-4e6a-b730-12be7649cd09"
      },
      "execution_count": 29,
      "outputs": [
        {
          "output_type": "stream",
          "name": "stdout",
          "text": [
            "Epoch 1/10\n"
          ]
        },
        {
          "output_type": "stream",
          "name": "stderr",
          "text": [
            "/usr/local/lib/python3.7/dist-packages/ipykernel_launcher.py:1: UserWarning: `Model.fit_generator` is deprecated and will be removed in a future version. Please use `Model.fit`, which supports generators.\n",
            "  \"\"\"Entry point for launching an IPython kernel.\n"
          ]
        },
        {
          "output_type": "stream",
          "name": "stdout",
          "text": [
            "24/24 [==============================] - 104s 4s/step - loss: 0.0000e+00 - accuracy: 0.1094 - val_loss: 0.0000e+00 - val_accuracy: 0.0969\n",
            "Epoch 2/10\n",
            "24/24 [==============================] - 77s 3s/step - loss: 0.0000e+00 - accuracy: 0.0897 - val_loss: 0.0000e+00 - val_accuracy: 0.1055\n",
            "Epoch 3/10\n",
            "24/24 [==============================] - 61s 3s/step - loss: 0.0000e+00 - accuracy: 0.0755 - val_loss: 0.0000e+00 - val_accuracy: 0.1086\n",
            "Epoch 4/10\n",
            "24/24 [==============================] - 55s 2s/step - loss: 0.0000e+00 - accuracy: 0.0911 - val_loss: 0.0000e+00 - val_accuracy: 0.1172\n",
            "Epoch 5/10\n",
            "24/24 [==============================] - 44s 2s/step - loss: 0.0000e+00 - accuracy: 0.0677 - val_loss: 0.0000e+00 - val_accuracy: 0.1180\n",
            "Epoch 6/10\n",
            "24/24 [==============================] - 51s 2s/step - loss: 0.0000e+00 - accuracy: 0.1042 - val_loss: 0.0000e+00 - val_accuracy: 0.1086\n",
            "Epoch 7/10\n",
            "24/24 [==============================] - 45s 2s/step - loss: 0.0000e+00 - accuracy: 0.0805 - val_loss: 0.0000e+00 - val_accuracy: 0.1133\n",
            "Epoch 8/10\n",
            "24/24 [==============================] - 31s 1s/step - loss: 0.0000e+00 - accuracy: 0.0859 - val_loss: 0.0000e+00 - val_accuracy: 0.1078\n",
            "Epoch 9/10\n",
            "24/24 [==============================] - 31s 1s/step - loss: 0.0000e+00 - accuracy: 0.0846 - val_loss: 0.0000e+00 - val_accuracy: 0.1070\n",
            "Epoch 10/10\n",
            "24/24 [==============================] - 33s 1s/step - loss: 0.0000e+00 - accuracy: 0.0898 - val_loss: 0.0000e+00 - val_accuracy: 0.0984\n"
          ]
        },
        {
          "output_type": "execute_result",
          "data": {
            "text/plain": [
              "<keras.callbacks.History at 0x7f03ff961510>"
            ]
          },
          "metadata": {},
          "execution_count": 29
        }
      ]
    },
    {
      "cell_type": "code",
      "source": [
        "model.save('aslpng1.h5')"
      ],
      "metadata": {
        "id": "58pqrgrCJ_28"
      },
      "execution_count": 30,
      "outputs": []
    },
    {
      "cell_type": "markdown",
      "source": [
        "#Test the Model"
      ],
      "metadata": {
        "id": "AbMxISs8RbEJ"
      }
    },
    {
      "cell_type": "code",
      "source": [
        "from keras.models import load_model\n",
        "import numpy as np\n",
        "import cv2"
      ],
      "metadata": {
        "id": "Ua6PS-YJLTsL"
      },
      "execution_count": 36,
      "outputs": []
    },
    {
      "cell_type": "code",
      "source": [
        "model=load_model('aslpng1.h5')"
      ],
      "metadata": {
        "id": "_hNTzWqhLkWo"
      },
      "execution_count": 32,
      "outputs": []
    },
    {
      "cell_type": "code",
      "source": [
        "from skimage.transform import resize\n",
        "def detect(frame):\n",
        "  img=resize(frame,(64,64,1))\n",
        "  img=np.expand_dims(img,axis=0)\n",
        "  if(np.max(img)>1):\n",
        "    img=img/255.0\n",
        "    prediction=model.predict(img)\n",
        "    print(prediction)\n",
        "    prediction=model.predict_classes(img)\n",
        "    print(prediction)\n",
        "    "
      ],
      "metadata": {
        "id": "3uJVec5KLvg7"
      },
      "execution_count": 33,
      "outputs": []
    },
    {
      "cell_type": "code",
      "source": [
        "frame=cv2.imread(\"/content/drive/MyDrive/dataset/data_set/test_set/A/1.png\")\n",
        "data=detect(frame)"
      ],
      "metadata": {
        "id": "9I8dS7vsNMc5"
      },
      "execution_count": 38,
      "outputs": []
    }
  ]
}