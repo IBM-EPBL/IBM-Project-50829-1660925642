{
 "cells": [
  {
   "cell_type": "code",
   "execution_count": null,
   "id": "93d5c485",
   "metadata": {},
   "outputs": [],
   "source": [
    "from flask import Flask, Response, render_template\n",
    "import cv2\n",
    "\n",
    "\n",
    "app = Flask(__name__)\n",
    "cap = cv2.VideoCapture(0)\n",
    "@app.route('/')\n",
    "def home():\n",
    "    return  render_template('home.html')\n",
    "\n",
    "def generate_frames():\n",
    "    while True:\n",
    "        success, frame = cap.read()\n",
    "        imgOutput=frame.copy()\n",
    "        yield (b'--frame\\r\\n'\n",
    "               b'Content-Type: image/jpeg\\r\\n\\r\\n' + imgOutput + b'\\r\\n')\n",
    "@app.route('/predict',methods=['POST','GET'])\n",
    "def predictions():\n",
    "    #The prediction model code goes here\n",
    "    #Once the start Button is pressed the prediction model starts\n",
    "    pass\n",
    "@app.route('/stop',methods=['POST','GET'])\n",
    "def stopping():\n",
    "    #The text to speech code goes here\n",
    "    #Once the stop button is pressed the text is converted into speech\n",
    "    pass\n",
    "\n",
    "@app.route('/video')\n",
    "def video():\n",
    "    return Response(generate_frames(),mimetype='multipart/x-mixed-replace; boundary=frame')\n",
    "\n",
    "\n",
    "if __name__ == '__main__':\n",
    "\tapp.run(debug=True)"
   ]
  }
 ],
 "metadata": {
  "kernelspec": {
   "display_name": "Python 3",
   "language": "python",
   "name": "python3"
  },
  "language_info": {
   "codemirror_mode": {
    "name": "ipython",
    "version": 3
   },
   "file_extension": ".py",
   "mimetype": "text/x-python",
   "name": "python",
   "nbconvert_exporter": "python",
   "pygments_lexer": "ipython3",
   "version": "3.8.8"
  }
 },
 "nbformat": 4,
 "nbformat_minor": 5
}
