{
 "cells": [
  {
   "cell_type": "code",
   "execution_count": 1,
   "id": "e39b02ad",
   "metadata": {},
   "outputs": [],
   "source": [
    "             ############################## Model Building ##############################"
   ]
  },
  {
   "cell_type": "code",
   "execution_count": 2,
   "id": "35378a65",
   "metadata": {},
   "outputs": [],
   "source": [
    "from zipfile import ZipFile"
   ]
  },
  {
   "cell_type": "code",
   "execution_count": 3,
   "id": "43345ac4",
   "metadata": {},
   "outputs": [],
   "source": [
    "with ZipFile(\"conversation engine for deaf and dumb.zip\",\"r\") as f:\n",
    "    f.extractall()"
   ]
  },
  {
   "cell_type": "code",
   "execution_count": 4,
   "id": "a483fb0d",
   "metadata": {},
   "outputs": [],
   "source": [
    "from tensorflow.keras.preprocessing.image import ImageDataGenerator\n",
    "train_datagen=ImageDataGenerator(rescale = 1./255, shear_range=0.2, zoom_range=0.2,horizontal_flip=True)\n",
    "test_datagen = ImageDataGenerator(rescale=1./255)"
   ]
  },
  {
   "cell_type": "code",
   "execution_count": 5,
   "id": "971f66b2",
   "metadata": {},
   "outputs": [
    {
     "name": "stdout",
     "output_type": "stream",
     "text": [
      "Found 4268 images belonging to 27 classes.\n"
     ]
    }
   ],
   "source": [
    "x_train = train_datagen.flow_from_directory(r\"C:\\Program Files\\Data Collection\\test\\test\", target_size=(64,64),batch_size=300,\n",
    "                                            class_mode='categorical', color_mode =\"grayscale\")"
   ]
  },
  {
   "cell_type": "code",
   "execution_count": 6,
   "id": "fd6717e8",
   "metadata": {},
   "outputs": [
    {
     "name": "stdout",
     "output_type": "stream",
     "text": [
      "Found 12845 images belonging to 27 classes.\n"
     ]
    }
   ],
   "source": [
    "x_test = test_datagen.flow_from_directory(r\"C:\\Program Files\\Data Collection\\train\\train\", target_size=(64,64),batch_size=300,\n",
    "                                         class_mode='categorical', color_mode =\"grayscale\")"
   ]
  },
  {
   "cell_type": "code",
   "execution_count": 7,
   "id": "23cfdf5c",
   "metadata": {},
   "outputs": [],
   "source": [
    "import tensorflow as tf"
   ]
  },
  {
   "cell_type": "code",
   "execution_count": 8,
   "id": "ab3feb13",
   "metadata": {},
   "outputs": [],
   "source": [
    "from tensorflow.keras.models import Sequential\n",
    "from tensorflow.keras.layers import Dense\n",
    "from tensorflow.keras.layers import Convolution2D\n",
    "from tensorflow.keras.layers import MaxPooling2D\n",
    "from tensorflow.keras.layers import Dropout\n",
    "from tensorflow.keras.layers import Flatten"
   ]
  },
  {
   "cell_type": "code",
   "execution_count": 9,
   "id": "595ede91",
   "metadata": {},
   "outputs": [],
   "source": [
    "model=Sequential()"
   ]
  },
  {
   "cell_type": "code",
   "execution_count": 10,
   "id": "d8016fa0",
   "metadata": {},
   "outputs": [],
   "source": [
    "model.add(Convolution2D(32,(3,3), input_shape=(64,64,1), activation = 'relu'))"
   ]
  },
  {
   "cell_type": "code",
   "execution_count": 11,
   "id": "81458463",
   "metadata": {},
   "outputs": [],
   "source": [
    "model.add(MaxPooling2D(pool_size=(2,2)))"
   ]
  },
  {
   "cell_type": "code",
   "execution_count": 12,
   "id": "3b117cf3",
   "metadata": {},
   "outputs": [],
   "source": [
    "model.add(Flatten())"
   ]
  },
  {
   "cell_type": "code",
   "execution_count": 13,
   "id": "cd0bd238",
   "metadata": {},
   "outputs": [],
   "source": [
    "model.add(Dense( units=512, activation='relu'))"
   ]
  },
  {
   "cell_type": "code",
   "execution_count": 14,
   "id": "b87c3aaa",
   "metadata": {},
   "outputs": [],
   "source": [
    "model.add(Dense(units=9, activation='softmax'))\n"
   ]
  },
  {
   "cell_type": "code",
   "execution_count": 23,
   "id": "7021fa26",
   "metadata": {},
   "outputs": [],
   "source": [
    "model.compile(loss='categorical_crossentropy', optimizer='adam', metrics=['accuracy'])"
   ]
  },
  {
   "cell_type": "code",
   "execution_count": 24,
   "id": "a10a6f96",
   "metadata": {},
   "outputs": [
    {
     "name": "stdout",
     "output_type": "stream",
     "text": [
      "WARNING:tensorflow:From <ipython-input-24-fc260bc6d89f>:1: Model.fit_generator (from tensorflow.python.keras.engine.training) is deprecated and will be removed in a future version.\n",
      "Instructions for updating:\n",
      "Please use Model.fit, which supports generators.\n",
      "Epoch 1/10\n",
      "24/24 [==============================] - ETA: 0s - loss: 1.8672 - accuracy: 0.5979WARNING:tensorflow:Your input ran out of data; interrupting training. Make sure that your dataset or generator can generate at least `steps_per_epoch * epochs` batches (in this case, 40 batches). You may need to use the repeat() function when building your dataset.\n",
      "24/24 [==============================] - 107s 4s/step - loss: 1.8672 - accuracy: 0.5979 - val_loss: 0.5701 - val_accuracy: 0.8569\n",
      "Epoch 2/10\n",
      "24/24 [==============================] - 60s 2s/step - loss: 0.3899 - accuracy: 0.8955\n",
      "Epoch 3/10\n",
      "24/24 [==============================] - 49s 2s/step - loss: 0.1978 - accuracy: 0.9507\n",
      "Epoch 4/10\n",
      "24/24 [==============================] - 43s 2s/step - loss: 0.1321 - accuracy: 0.9665\n",
      "Epoch 5/10\n",
      "24/24 [==============================] - 39s 2s/step - loss: 0.0885 - accuracy: 0.9810\n",
      "Epoch 6/10\n",
      "24/24 [==============================] - 36s 1s/step - loss: 0.0643 - accuracy: 0.9865\n",
      "Epoch 7/10\n",
      "24/24 [==============================] - 36s 2s/step - loss: 0.0433 - accuracy: 0.9911\n",
      "Epoch 8/10\n",
      "24/24 [==============================] - 34s 1s/step - loss: 0.0367 - accuracy: 0.9929\n",
      "Epoch 9/10\n",
      "24/24 [==============================] - 34s 1s/step - loss: 0.0269 - accuracy: 0.9950\n",
      "Epoch 10/10\n",
      "24/24 [==============================] - 35s 1s/step - loss: 0.0240 - accuracy: 0.9942\n"
     ]
    },
    {
     "data": {
      "text/plain": [
       "<tensorflow.python.keras.callbacks.History at 0x1f570bbbfa0>"
      ]
     },
     "execution_count": 24,
     "metadata": {},
     "output_type": "execute_result"
    }
   ],
   "source": [
    "model.fit_generator(x_train, steps_per_epoch=24, epochs=10, validation_data=x_test,validation_steps=40)"
   ]
  },
  {
   "cell_type": "code",
   "execution_count": 26,
   "id": "2b3a7f76",
   "metadata": {},
   "outputs": [],
   "source": [
    "model.save('HandSign.h5')"
   ]
  },
  {
   "cell_type": "code",
   "execution_count": null,
   "id": "f3e72414",
   "metadata": {},
   "outputs": [],
   "source": [
    "  ##################### Successfully Built the Model ###########################"
   ]
  }
 ],
 "metadata": {
  "kernelspec": {
   "display_name": "Python 3",
   "language": "python",
   "name": "python3"
  },
  "language_info": {
   "codemirror_mode": {
    "name": "ipython",
    "version": 3
   },
   "file_extension": ".py",
   "mimetype": "text/x-python",
   "name": "python",
   "nbconvert_exporter": "python",
   "pygments_lexer": "ipython3",
   "version": "3.8.8"
  }
 },
 "nbformat": 4,
 "nbformat_minor": 5
}
